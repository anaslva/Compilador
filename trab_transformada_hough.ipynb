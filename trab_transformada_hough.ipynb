{
  "nbformat": 4,
  "nbformat_minor": 0,
  "metadata": {
    "colab": {
      "provenance": [],
      "toc_visible": true,
      "authorship_tag": "ABX9TyOCi91PUHzCqYh/WtULT62Y",
      "include_colab_link": true
    },
    "kernelspec": {
      "name": "python3",
      "display_name": "Python 3"
    },
    "language_info": {
      "name": "python"
    }
  },
  "cells": [
    {
      "cell_type": "markdown",
      "metadata": {
        "id": "view-in-github",
        "colab_type": "text"
      },
      "source": [
        "<a href=\"https://colab.research.google.com/github/anaslva/Compilador/blob/master/trab_transformada_hough.ipynb\" target=\"_parent\"><img src=\"https://colab.research.google.com/assets/colab-badge.svg\" alt=\"Open In Colab\"/></a>"
      ]
    },
    {
      "cell_type": "code",
      "execution_count": 5,
      "metadata": {
        "id": "Evf091RenlkD",
        "colab": {
          "base_uri": "https://localhost:8080/",
          "height": 373
        },
        "outputId": "fa235bf7-4424-4bd4-e7ce-13c891b1e70c"
      },
      "outputs": [
        {
          "output_type": "stream",
          "name": "stdout",
          "text": [
            "#####Processando imagens#####\n"
          ]
        },
        {
          "output_type": "error",
          "ename": "KeyboardInterrupt",
          "evalue": "",
          "traceback": [
            "\u001b[0;31m---------------------------------------------------------------------------\u001b[0m",
            "\u001b[0;31mKeyboardInterrupt\u001b[0m                         Traceback (most recent call last)",
            "\u001b[0;32m<ipython-input-5-c448a2ce053e>\u001b[0m in \u001b[0;36m<cell line: 0>\u001b[0;34m()\u001b[0m\n\u001b[1;32m    113\u001b[0m \u001b[0;32mif\u001b[0m \u001b[0m__name__\u001b[0m \u001b[0;34m==\u001b[0m \u001b[0;34m\"__main__\"\u001b[0m\u001b[0;34m:\u001b[0m\u001b[0;34m\u001b[0m\u001b[0;34m\u001b[0m\u001b[0m\n\u001b[1;32m    114\u001b[0m     \u001b[0mprint\u001b[0m\u001b[0;34m(\u001b[0m\u001b[0;34m\"#####Processando imagens#####\"\u001b[0m\u001b[0;34m)\u001b[0m\u001b[0;34m\u001b[0m\u001b[0;34m\u001b[0m\u001b[0m\n\u001b[0;32m--> 115\u001b[0;31m     \u001b[0mprocessar_imagens\u001b[0m\u001b[0;34m(\u001b[0m\u001b[0;34m)\u001b[0m\u001b[0;34m\u001b[0m\u001b[0;34m\u001b[0m\u001b[0m\n\u001b[0m\u001b[1;32m    116\u001b[0m \u001b[0;34m\u001b[0m\u001b[0m\n\u001b[1;32m    117\u001b[0m     \u001b[0mprint\u001b[0m\u001b[0;34m(\u001b[0m\u001b[0;34m\"#####Exibindo resultados#####\"\u001b[0m\u001b[0;34m)\u001b[0m\u001b[0;34m\u001b[0m\u001b[0;34m\u001b[0m\u001b[0m\n",
            "\u001b[0;32m<ipython-input-5-c448a2ce053e>\u001b[0m in \u001b[0;36mprocessar_imagens\u001b[0;34m()\u001b[0m\n\u001b[1;32m     75\u001b[0m         \u001b[0mimg\u001b[0m \u001b[0;34m=\u001b[0m \u001b[0mcv2\u001b[0m\u001b[0;34m.\u001b[0m\u001b[0mimread\u001b[0m\u001b[0;34m(\u001b[0m\u001b[0mcaminho\u001b[0m\u001b[0;34m)\u001b[0m\u001b[0;34m\u001b[0m\u001b[0;34m\u001b[0m\u001b[0m\n\u001b[1;32m     76\u001b[0m \u001b[0;34m\u001b[0m\u001b[0m\n\u001b[0;32m---> 77\u001b[0;31m         \u001b[0miris\u001b[0m \u001b[0;34m=\u001b[0m \u001b[0msegmentar_iris\u001b[0m\u001b[0;34m(\u001b[0m\u001b[0mimg\u001b[0m\u001b[0;34m)\u001b[0m\u001b[0;34m\u001b[0m\u001b[0;34m\u001b[0m\u001b[0m\n\u001b[0m\u001b[1;32m     78\u001b[0m         \u001b[0miris_sem_pupila\u001b[0m \u001b[0;34m=\u001b[0m \u001b[0mremover_pupila\u001b[0m\u001b[0;34m(\u001b[0m\u001b[0miris\u001b[0m\u001b[0;34m)\u001b[0m\u001b[0;34m\u001b[0m\u001b[0;34m\u001b[0m\u001b[0m\n\u001b[1;32m     79\u001b[0m \u001b[0;34m\u001b[0m\u001b[0m\n",
            "\u001b[0;32m<ipython-input-5-c448a2ce053e>\u001b[0m in \u001b[0;36msegmentar_iris\u001b[0;34m(img)\u001b[0m\n\u001b[1;32m     29\u001b[0m \u001b[0;34m\u001b[0m\u001b[0m\n\u001b[1;32m     30\u001b[0m     \u001b[0;32mwhile\u001b[0m \u001b[0mcircles\u001b[0m \u001b[0;32mis\u001b[0m \u001b[0;32mNone\u001b[0m \u001b[0;32mor\u001b[0m \u001b[0mcircles\u001b[0m\u001b[0;34m.\u001b[0m\u001b[0msize\u001b[0m \u001b[0;34m==\u001b[0m \u001b[0;36m0\u001b[0m\u001b[0;34m:\u001b[0m\u001b[0;34m\u001b[0m\u001b[0;34m\u001b[0m\u001b[0m\n\u001b[0;32m---> 31\u001b[0;31m         circles = cv2.HoughCircles(binarizada, cv2.HOUGH_GRADIENT, dp=2, minDist=2000,\n\u001b[0m\u001b[1;32m     32\u001b[0m                                    \u001b[0mparam1\u001b[0m\u001b[0;34m=\u001b[0m\u001b[0mPARAM_1\u001b[0m\u001b[0;34m,\u001b[0m \u001b[0mparam2\u001b[0m\u001b[0;34m=\u001b[0m\u001b[0mPARAM_2\u001b[0m\u001b[0;34m,\u001b[0m\u001b[0;34m\u001b[0m\u001b[0;34m\u001b[0m\u001b[0m\n\u001b[1;32m     33\u001b[0m                                    minRadius=min_r, maxRadius=max_r)\n",
            "\u001b[0;31mKeyboardInterrupt\u001b[0m: "
          ]
        }
      ],
      "source": [
        "# Alunos: Ana Carolina da Silva e Gustavo Baroni Bruder\n",
        "\n",
        "import os\n",
        "import cv2\n",
        "import numpy as np\n",
        "import matplotlib.pyplot as plt\n",
        "import shutil\n",
        "from pathlib import Path\n",
        "from zipfile import ZipFile\n",
        "\n",
        "PARAM_1 = 20\n",
        "PARAM_2 = 31\n",
        "\n",
        "# Diretórios\n",
        "DATA_DIR = \"data\"\n",
        "OUTPUT_DIR = \"final_iris\"\n",
        "\n",
        "os.makedirs(DATA_DIR, exist_ok=True)\n",
        "os.makedirs(OUTPUT_DIR, exist_ok=True)\n",
        "\n",
        "\n",
        "def segmentar_iris(img):\n",
        "    cinza = cv2.cvtColor(img, cv2.COLOR_BGR2GRAY)\n",
        "    borrada = cv2.medianBlur(cinza, 5)\n",
        "    binarizada = cv2.threshold(borrada, 100, 255, cv2.THRESH_BINARY)[1]\n",
        "\n",
        "    circles = None\n",
        "    min_r, max_r = 80, 200\n",
        "\n",
        "    while circles is None or circles.size == 0:\n",
        "        circles = cv2.HoughCircles(binarizada, cv2.HOUGH_GRADIENT, dp=2, minDist=2000,\n",
        "                                   param1=PARAM_1, param2=PARAM_2,\n",
        "                                   minRadius=min_r, maxRadius=max_r)\n",
        "        max_r += 10\n",
        "\n",
        "    circles = np.uint16(np.around(circles))\n",
        "    mascara = np.zeros_like(img)\n",
        "\n",
        "    for x, y, r in circles[0]:\n",
        "        cv2.circle(mascara, (x, y), r, (255, 255, 255), -1)\n",
        "\n",
        "    return cv2.bitwise_and(img, mascara)\n",
        "\n",
        "\n",
        "def remover_pupila(img):\n",
        "    cinza = cv2.cvtColor(img, cv2.COLOR_BGR2GRAY)\n",
        "    borrada = cv2.medianBlur(cinza, 5)\n",
        "    binarizada = cv2.threshold(borrada, 30, 255, cv2.THRESH_BINARY)[1]\n",
        "\n",
        "    circles = cv2.HoughCircles(binarizada, cv2.HOUGH_GRADIENT, dp=2, minDist=500,\n",
        "                                param1=PARAM_1, param2=PARAM_2,\n",
        "                                minRadius=20, maxRadius=50)\n",
        "\n",
        "    if circles is None:\n",
        "        return img\n",
        "\n",
        "    circles = np.uint16(np.around(circles))\n",
        "    mascara = np.full_like(img, 255)\n",
        "\n",
        "    for x, y, r in circles[0]:\n",
        "        cv2.circle(mascara, (x, y), r, (0, 0, 0), -1)\n",
        "\n",
        "    return cv2.bitwise_and(img, mascara)\n",
        "\n",
        "\n",
        "def processar_imagens():\n",
        "    imagens = [f for f in os.listdir(DATA_DIR) if f.lower().endswith(('.png', '.jpg', '.jpeg'))]\n",
        "\n",
        "    if not imagens:\n",
        "        print(f\"Nenhuma imagem encontrada na pasta '{DATA_DIR}'\")\n",
        "        return\n",
        "\n",
        "    for nome_arquivo in imagens:\n",
        "        caminho = os.path.join(DATA_DIR, nome_arquivo)\n",
        "        img = cv2.imread(caminho)\n",
        "\n",
        "        iris = segmentar_iris(img)\n",
        "        iris_sem_pupila = remover_pupila(iris)\n",
        "\n",
        "        saida = os.path.join(OUTPUT_DIR, nome_arquivo)\n",
        "        cv2.imwrite(saida, iris_sem_pupila[:, :, ::-1])\n",
        "\n",
        "\n",
        "def visualizar_resultados():\n",
        "    arquivos = os.listdir(OUTPUT_DIR)\n",
        "    plt.figure(figsize=(15, len(arquivos) * 3))\n",
        "\n",
        "    for i, nome in enumerate(arquivos):\n",
        "        caminho = os.path.join(OUTPUT_DIR, nome)\n",
        "        img = cv2.imread(caminho)\n",
        "        if img is None:\n",
        "            continue\n",
        "        img_rgb = cv2.cvtColor(img, cv2.COLOR_BGR2RGB)\n",
        "\n",
        "        plt.subplot(len(arquivos), 1, i + 1)\n",
        "        plt.imshow(img_rgb)\n",
        "        plt.title(nome)\n",
        "        plt.axis(\"off\")\n",
        "\n",
        "    plt.tight_layout()\n",
        "    plt.show()\n",
        "\n",
        "\n",
        "def compactar_resultado():\n",
        "    with ZipFile(ZIP_FILE, \"w\") as zipf:\n",
        "        for pasta in [DATA_DIR, OUTPUT_DIR]:\n",
        "            for root, _, files in os.walk(pasta):\n",
        "                for file in files:\n",
        "                    caminho_completo = os.path.join(root, file)\n",
        "                    zipf.write(caminho_completo)\n",
        "\n",
        "\n",
        "if __name__ == \"__main__\":\n",
        "    print(\"#####Processando imagens#####\")\n",
        "    processar_imagens()\n",
        "\n",
        "    print(\"#####Exibindo resultados#####\")\n",
        "    visualizar_resultados()\n",
        "\n"
      ]
    }
  ]
}